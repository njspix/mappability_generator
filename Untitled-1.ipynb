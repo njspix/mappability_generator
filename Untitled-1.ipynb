{
 "cells": [
  {
   "cell_type": "code",
   "execution_count": 1,
   "metadata": {},
   "outputs": [
    {
     "data": {
      "text/plain": [
       "Channel{Any}(0) (1 item available)"
      ]
     },
     "execution_count": 1,
     "metadata": {},
     "output_type": "execute_result"
    }
   ],
   "source": [
    "function reader(buffer)\n",
    "    for line in eachline(\"test2.fa\")\n",
    "        for char in collect(uppercase(line))\n",
    "            put!(buffer, char)\n",
    "        end\n",
    "    end\n",
    "end\n",
    "\n",
    "function converter(raw_buff, conv_buff)\n",
    "    curr_char = take!(raw_buff)\n",
    "    while true\n",
    "        if isready(raw_buff)\n",
    "            next_char = take!(raw_buff)\n",
    "            if curr_char == 'C' && next_char != 'G'\n",
    "                put!(conv_buff, 'T')\n",
    "            else\n",
    "                put!(conv_buff, curr_char)\n",
    "            end\n",
    "            curr_char = next_char\n",
    "        end\n",
    "    end\n",
    "end\n",
    "\n",
    "test = Channel(reader)\n"
   ]
  },
  {
   "cell_type": "code",
   "execution_count": null,
   "metadata": {},
   "outputs": [],
   "source": []
  }
 ],
 "metadata": {
  "kernelspec": {
   "display_name": "Julia 1.8.5",
   "language": "julia",
   "name": "julia-1.8"
  },
  "language_info": {
   "file_extension": ".jl",
   "mimetype": "application/julia",
   "name": "julia",
   "version": "1.8.5"
  },
  "orig_nbformat": 4
 },
 "nbformat": 4,
 "nbformat_minor": 2
}
