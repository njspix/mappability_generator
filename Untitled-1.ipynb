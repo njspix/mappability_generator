{
 "cells": [
  {
   "cell_type": "code",
   "execution_count": 149,
   "metadata": {},
   "outputs": [
    {
     "data": {
      "text/plain": [
       "converter (generic function with 2 methods)"
      ]
     },
     "execution_count": 149,
     "metadata": {},
     "output_type": "execute_result"
    }
   ],
   "source": [
    "function reader(infile, out_buff::Channel, chr_name_buff::Channel)\n",
    "    for line in eachline(infile)\n",
    "        if line[1] == '>'\n",
    "            put!(out_buff, '>')\n",
    "            put!(chr_name_buff, line[2:end].split(' ')[1])\n",
    "        else\n",
    "            for c in collect(uppercase(line))\n",
    "                put!(out_buff, c)\n",
    "            end\n",
    "        end\n",
    "    end\n",
    "end\n",
    "\n",
    "function c2t_put(out_buff::Channel; c1::Union{Char, Nothing}, c2::Union{Char, Nothing})\n",
    "    if isnothing(c1) # this is the first character in the buffer\n",
    "        # Since we push c1 in this function, we've already dealth with this character\n",
    "    if isnothing(c2) # this is the last character in the buffer. If it's a C, it isn't a CpG for sure\n",
    "        if c1 == 'C'\n",
    "            put!(out_buff, 'T')\n",
    "        else\n",
    "            put!(out_buff, c1)\n",
    "        end\n",
    "    else\n",
    "        if c1 == 'C' && c2 != 'G'\n",
    "            put!(out_buff, 'T')\n",
    "        else\n",
    "            put!(out_buff, c1)\n",
    "        end\n",
    "    end\n",
    "end\n",
    "\n",
    "function g2a_put(out_buff::Channel; c1::Union{Char, Nothing}, c2::Union{Char, Nothing})\n",
    "    if isnothing(c1) # this is the first character in the buffer. If it's a G, it isn't a CpG for sure\n",
    "        if c2 == 'G'\n",
    "            put!(out_buff, 'A')\n",
    "        else\n",
    "            put!(out_buff, c2)\n",
    "        end\n",
    "    elseif isnothing(c2) # this is the last character in the buffer. \n",
    "        # Since we push c2 in this function, we've already dealt with this character\n",
    "    else\n",
    "        if c2 == 'G' && c1 != 'C'\n",
    "            put!(out_buff, 'A')\n",
    "        else\n",
    "            put!(out_buff, c2)\n",
    "        end\n",
    "    end\n",
    "end\n",
    "\n",
    "function converter(in_buff::Channel, out_buff::Channel, conv_func::Function)\n",
    "    first_char = take!(in_buff)\n",
    "    conv_func(out_buff, c1 = nothing, c2 = first_char)\n",
    "    while isready(in_buff)\n",
    "        next_char = take!(in_buff)\n",
    "        conv_func(out_buff, c1 = first_char, c2 = next_char)\n",
    "        first_char = next_char\n",
    "    end\n",
    "    conv_func(out_buff, c1 = first_char, c2 = nothing)\n",
    "end\n"
   ]
  },
  {
   "cell_type": "code",
   "execution_count": 150,
   "metadata": {},
   "outputs": [
    {
     "data": {
      "text/plain": [
       "readmaker (generic function with 2 methods)"
      ]
     },
     "execution_count": 150,
     "metadata": {},
     "output_type": "execute_result"
    }
   ],
   "source": [
    "function readmaker(in_buff::Channel, read_length::Int)\n",
    "    read = Vector{Char}()\n",
    "    while isready(in_buff)\n",
    "        if length(read) == read_length\n",
    "            println(String(read))\n",
    "            read = read[2:end]\n",
    "        else\n",
    "            push!(read, take!(in_buff))\n",
    "        end\n",
    "    end\n",
    "    println(String(read))\n",
    "end"
   ]
  },
  {
   "cell_type": "code",
   "execution_count": 152,
   "metadata": {},
   "outputs": [
    {
     "name": "stdout",
     "output_type": "stream",
     "text": [
      "TTTATGATTT\n",
      "TTATGATTTG\n",
      "TATGATTTGA\n",
      "ATGATTTGAG\n",
      "TGATTTGAGC\n",
      "GATTTGAGCG\n",
      "ATTTGAGCGC\n"
     ]
    }
   ],
   "source": [
    "raw_buff = Channel{Char}(10000)\n",
    "c2t_buff = Channel{Char}(10000)\n",
    "reader(\"test2.fa\", raw_buff)\n",
    "close(raw_buff)\n",
    "converter(raw_buff, c2t_buff, c2t_put)\n",
    "close(c2t_buff)\n",
    "readmaker(c2t_buff, 10)"
   ]
  },
  {
   "cell_type": "code",
   "execution_count": null,
   "metadata": {},
   "outputs": [],
   "source": []
  }
 ],
 "metadata": {
  "kernelspec": {
   "display_name": "Julia 1.8.5",
   "language": "julia",
   "name": "julia-1.8"
  },
  "language_info": {
   "file_extension": ".jl",
   "mimetype": "application/julia",
   "name": "julia",
   "version": "1.8.5"
  },
  "orig_nbformat": 4
 },
 "nbformat": 4,
 "nbformat_minor": 2
}
