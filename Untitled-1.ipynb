{
 "cells": [
  {
   "cell_type": "code",
   "execution_count": 17,
   "metadata": {},
   "outputs": [
    {
     "data": {
      "text/plain": [
       "format_fastq (generic function with 2 methods)"
      ]
     },
     "execution_count": 17,
     "metadata": {},
     "output_type": "execute_result"
    }
   ],
   "source": [
    "function c2t_convert(vec::Vector{Char})\n",
    "    # Replace all Cs that are NOT followed by G's with T's:\n",
    "    for i in 1:length(vec)-1\n",
    "        if vec[i] == 'C' && vec[i+1] != 'G'\n",
    "            vec[i] = 'T'\n",
    "        end\n",
    "    end\n",
    "    return vec\n",
    "end\n",
    "\n",
    "function g2a_convert(vec::Vector{Char})\n",
    "    # Replace all Gs that are NOT preceded by C's with A's:\n",
    "    for i in 2:length(vec)\n",
    "        if vec[i-1] != 'C' && vec[i] == 'G'\n",
    "            vec[i] = 'A'\n",
    "        end\n",
    "    end\n",
    "    return vec\n",
    "end\n",
    "\n",
    "function format_fastq(name::String, read::Vector{Char})\n",
    "    # We format the read and quality score into a fastq format:\n",
    "    fastq = name * \"\\n\" * String(read) * \"\\n+\\n\" * \"I\" ^ length(read) * \"\\n\"\n",
    "    return fastq\n",
    "end"
   ]
  },
  {
   "cell_type": "code",
   "execution_count": 22,
   "metadata": {},
   "outputs": [
    {
     "data": {
      "text/plain": [
       "generate_c2t_reads (generic function with 1 method)"
      ]
     },
     "execution_count": 22,
     "metadata": {},
     "output_type": "execute_result"
    }
   ],
   "source": [
    "function generate_c2t_reads(buffer::Vector{Char}, read_length::Int)\n",
    "    for i in 1:length(buffer) - read_length + 1\n",
    "        # If the last character is going to be a C, extend the read by one so we can convert appropriately:\n",
    "        if buffer[i+read_length-1] == 'C'\n",
    "            read = buffer[i:i+read_length]\n",
    "            read = c2t_convert(read)\n",
    "            # and then shorten it again:\n",
    "            read = read[1:end-1]\n",
    "        else\n",
    "            read = buffer[i:i+read_length-1]\n",
    "            read = c2t_convert(read)\n",
    "        end\n",
    "        # We do something with the read:\n",
    "        println(String(read))\n",
    "    end\n",
    "    # We remove the used part of the buffer:\n",
    "    buffer = buffer[length(buffer) - read_length + 2:end]\n",
    "    return buffer\n",
    "end\n",
    "\n",
    "function generate_g2a_reads(buffer::Vector{Char}, read_length::Int)\n",
    "    for i in 1:length(buffer) - read_length + 1\n",
    "        # If the first character is going to be a G, prepend the read by one so we can convert appropriately:\n",
    "        if buffer[i] == 'G'\n",
    "            read = buffer[i:i+read_length-1]\n",
    "            read = g2a_convert(read)\n",
    "            # and then shorten it again:\n",
    "            read = read[2:end]\n",
    "        else\n",
    "            read = buffer[i+1:i+read_length]\n",
    "            read = g2a_convert(read)\n",
    "        end\n",
    "        # We do something with the read:\n",
    "        println(String(read))\n",
    "    end\n",
    "    # We remove the used part of the buffer:\n",
    "    buffer = buffer[length(buffer) - read_length + 2:end]\n",
    "    return buffer\n",
    "end"
   ]
  },
  {
   "cell_type": "code",
   "execution_count": 23,
   "metadata": {},
   "outputs": [
    {
     "name": "stdout",
     "output_type": "stream",
     "text": [
      "ATTCG\n",
      "TTCGA\n",
      "TCGAT\n",
      "CGATT\n",
      "GATTT\n",
      "ATTTA\n",
      "TTTAG\n",
      "TTAGT\n",
      "TAGTT\n",
      "AGTTA\n",
      "GTTAC\n",
      "TTACG\n",
      "TACGT\n",
      "\n",
      "ACGT\n"
     ]
    }
   ],
   "source": [
    "buffer = collect(\"ACTCGACTCAGCCACGT\")\n",
    "buffer = generate_c2t_reads(buffer, 5)\n",
    "println()\n",
    "println(String(buffer))"
   ]
  },
  {
   "cell_type": "code",
   "execution_count": null,
   "metadata": {},
   "outputs": [],
   "source": [
    "ACTCGACTCAGCCACGT\n",
    "CTCGACTCAGCCACGT\n",
    "TCGACTCAGCCACGT\n",
    "CGACTCAGCCACGT\n",
    "GACTCAGCCACGT\n",
    "ACTCAGCCACGT\n",
    "CTCAGCCACGT\n",
    "TCAGCCACGT\n",
    "CAGCCACGT\n",
    "AGCCACGT\n",
    "GCCACGT\n",
    "CCACGT\n",
    "CACGT\n"
   ]
  }
 ],
 "metadata": {
  "kernelspec": {
   "display_name": "Julia 1.8.5",
   "language": "julia",
   "name": "julia-1.8"
  },
  "language_info": {
   "file_extension": ".jl",
   "mimetype": "application/julia",
   "name": "julia",
   "version": "1.8.5"
  },
  "orig_nbformat": 4
 },
 "nbformat": 4,
 "nbformat_minor": 2
}
