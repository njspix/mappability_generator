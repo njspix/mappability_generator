{
 "cells": [
  {
   "cell_type": "code",
   "execution_count": 15,
   "metadata": {},
   "outputs": [
    {
     "data": {
      "text/plain": [
       "converter (generic function with 1 method)"
      ]
     },
     "execution_count": 15,
     "metadata": {},
     "output_type": "execute_result"
    }
   ],
   "source": [
    "function reader(infile, out_buff::Channel)\n",
    "    for line in eachline(infile)\n",
    "        if line[1] != '>'\n",
    "            for c in collect(uppercase(line))\n",
    "                put!(out_buff, c)\n",
    "            end\n",
    "        end\n",
    "    end\n",
    "end\n",
    "\n",
    "function converter(in_buff::Channel, out_buff::Channel)\n",
    "    first_char = take!(in_buff)\n",
    "    while isready(in_buff)\n",
    "        next_char = take!(in_buff)\n",
    "        if first_char == 'C' && next_char != 'G'\n",
    "            push!(out_buff, 'T')\n",
    "        else\n",
    "            push!(out_buff, first_char)\n",
    "        end\n",
    "        first_char = next_char\n",
    "    end\n",
    "    if first_char == 'C'\n",
    "        push!(out_buff, 'T')\n",
    "    else\n",
    "        push!(out_buff, first_char)\n",
    "    end\n",
    "end\n"
   ]
  },
  {
   "cell_type": "code",
   "execution_count": 16,
   "metadata": {},
   "outputs": [],
   "source": [
    "raw_buff = Channel{Char}(10000)\n",
    "c2t_buff = Channel{Char}(10000)\n",
    "reader(\"test2.fa\", raw_buff)\n",
    "close(raw_buff)\n",
    "converter(raw_buff, c2t_buff)\n",
    "close(c2t_buff)"
   ]
  },
  {
   "cell_type": "code",
   "execution_count": 17,
   "metadata": {},
   "outputs": [
    {
     "name": "stdout",
     "output_type": "stream",
     "text": [
      "ATTGATCGTTATTAGTAT"
     ]
    }
   ],
   "source": [
    "for i in c2t_buff\n",
    "    print(i)\n",
    "end\n"
   ]
  },
  {
   "cell_type": "code",
   "execution_count": null,
   "metadata": {},
   "outputs": [],
   "source": [
    "function readmaker(in_buff::Channel)"
   ]
  }
 ],
 "metadata": {
  "kernelspec": {
   "display_name": "Julia 1.8.5",
   "language": "julia",
   "name": "julia-1.8"
  },
  "language_info": {
   "file_extension": ".jl",
   "mimetype": "application/julia",
   "name": "julia",
   "version": "1.8.5"
  },
  "orig_nbformat": 4
 },
 "nbformat": 4,
 "nbformat_minor": 2
}
